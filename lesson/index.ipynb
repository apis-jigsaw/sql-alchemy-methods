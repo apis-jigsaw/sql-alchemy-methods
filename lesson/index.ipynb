{
 "cells": [
  {
   "cell_type": "markdown",
   "id": "bfba4006-39b7-4f6e-b7a8-2331ab45305c",
   "metadata": {},
   "source": [
    "# SqlAlchemy Methods"
   ]
  },
  {
   "cell_type": "markdown",
   "id": "8e0c438b-078f-42e9-84bb-ef5f7139714f",
   "metadata": {},
   "source": [
    "### Introduction\n",
    "\n",
    "In the last lesson, we saw how to set up sqlalchemy.  In this lesson, let's explore more as to what we can accomplish with sqlalchemy. "
   ]
  },
  {
   "cell_type": "markdown",
   "id": "fd7f3549-95cd-4c53-b7f9-d32ee18e161d",
   "metadata": {},
   "source": [
    "### Setting it up"
   ]
  },
  {
   "cell_type": "markdown",
   "id": "6d6240a4-ba70-4913-88c8-e5041eb3233b",
   "metadata": {},
   "source": [
    "Begin by creating a database called `yelp_lunch`.  You can see in the `seed.py` file that we are setting a connection to this database.\n",
    "\n",
    "Then run the `seed.py` file, and this will create a restaurants table with data loaded from the csv file.\n",
    "\n",
    "Connect to the database to see table created."
   ]
  },
  {
   "cell_type": "markdown",
   "id": "25cb3876-33c5-48ae-921e-534b18c7ede5",
   "metadata": {},
   "source": [
    "<img src=\"./restaurant_table.png\">"
   ]
  },
  {
   "cell_type": "markdown",
   "id": "dbb49f8a-acda-41dc-82d4-5465056dbc10",
   "metadata": {},
   "source": [
    "Ok, now if we look at the `restaurant.py` file, you can see that we have already created a lot of the model for you.  Fill in attributes for `city` and `category`, which are currently missing."
   ]
  },
  {
   "cell_type": "markdown",
   "id": "0324a386-34c0-40da-80ad-54a131bcdc5b",
   "metadata": {},
   "source": [
    "### Reviewing with the Server file"
   ]
  },
  {
   "cell_type": "markdown",
   "id": "665f053c-ee18-4b4f-bafa-8e7b65767fb2",
   "metadata": {},
   "source": [
    "Then if you look at the `server.py` file."
   ]
  },
  {
   "cell_type": "markdown",
   "id": "78fa8201-84c1-4250-bc25-7569314c2f37",
   "metadata": {},
   "source": [
    "```python\n",
    "from app import create_app, db\n",
    "from app.models import Restaurant\n",
    "\n",
    "app = create_app()\n",
    "```"
   ]
  },
  {
   "cell_type": "markdown",
   "id": "db9ae2bf-817d-42a8-bc7b-dc97ad78557a",
   "metadata": {},
   "source": [
    "You can see that we import the create_app function from the `app/__init__.py` file, and there you can see the connection to our database established."
   ]
  },
  {
   "cell_type": "markdown",
   "id": "d936f9fe-ff35-473f-861c-f1ce4f63d4e2",
   "metadata": {},
   "source": [
    "```python\n",
    "def create_app():\n",
    "    app = Flask(__name__)\n",
    "    conn_str = \"postgresql://localhost:5432/yelp_lunch\"\n",
    "    app.config['SQLALCHEMY_DATABASE_URI'] = conn_str\n",
    "    db.init_app(app)\n",
    "    return app\n",
    "```"
   ]
  },
  {
   "cell_type": "markdown",
   "id": "7a846cb7-b46d-4544-bf3f-19af66fed694",
   "metadata": {},
   "source": [
    "### Querying the database"
   ]
  },
  {
   "cell_type": "markdown",
   "id": "7071b184-a42e-4ddc-a07f-3dda957a8f7b",
   "metadata": {},
   "source": [
    "Ok, so now let's log into the shell."
   ]
  },
  {
   "cell_type": "markdown",
   "id": "f849d5b7-dd24-4b0d-a8c5-c6fe55d68de0",
   "metadata": {},
   "source": [
    "```bash\n",
    "flask shell\n",
    "```"
   ]
  },
  {
   "cell_type": "markdown",
   "id": "6b508f3c-51ec-445b-a4ee-8f252d378129",
   "metadata": {},
   "source": [
    "For this next section, code along and get used to some sqlalchemy methods."
   ]
  },
  {
   "cell_type": "markdown",
   "id": "a4841a1f-8f65-44c8-b753-9c977a382fd9",
   "metadata": {},
   "source": [
    "```python\n",
    "db.session.query(Restaurant).first()\n",
    "```"
   ]
  },
  {
   "cell_type": "markdown",
   "id": "5fa09b8f-d349-49c1-b7f4-c62dcb9baf36",
   "metadata": {},
   "source": [
    "> First returns the first record in a table."
   ]
  },
  {
   "cell_type": "markdown",
   "id": "1ddf8693-db02-47e2-b41e-7623533e1e54",
   "metadata": {},
   "source": [
    "```python\n",
    "db.session.query(Restaurant).get(2)\n",
    "```\n",
    "> get allows us to specify the id"
   ]
  },
  {
   "cell_type": "markdown",
   "id": "28d1541c-7a5e-4d75-b1c5-e58b868e056d",
   "metadata": {},
   "source": [
    "Finally filter by allows us to query by any attribute in our data."
   ]
  },
  {
   "cell_type": "markdown",
   "id": "1a0f83b7-4217-446a-af95-d1c7bf0d2754",
   "metadata": {},
   "source": [
    "<img src=\"./filter_by.png\" width=\"100%\">"
   ]
  },
  {
   "cell_type": "markdown",
   "id": "b6e9dc7e-21a4-4184-8135-2b7c2ff33eb1",
   "metadata": {},
   "source": [
    "> Notice that here, we have to finish our query with the `first()` method which will return one result, or the `all()` method, which will return multiple matches."
   ]
  },
  {
   "cell_type": "markdown",
   "id": "2f5f5056-411b-4b03-a113-7aa20e77eed8",
   "metadata": {},
   "source": [
    "There are other query methods that you can look at in the [documentation](https://docs.sqlalchemy.org/en/14/orm/query.html#sqlalchemy.orm.Query.filter_by)."
   ]
  },
  {
   "cell_type": "markdown",
   "id": "676e15ac-e409-4764-9385-920210d7252c",
   "metadata": {},
   "source": [
    "### Summary"
   ]
  },
  {
   "cell_type": "markdown",
   "id": "d32b3fe6-b6de-4c23-9d7c-f771a5a6b8eb",
   "metadata": {},
   "source": [
    "In this lesson, we learned a few query methods that we can perform in sqlalchemy.  The main ones we saw where the `get` method which allows us to find a record by `id`, and the `filter_by` method which allows us to query by any matching criteria. \n",
    "\n",
    "After calling the filter_by method, we need to specify if we would like to return all matching results, or just a single match."
   ]
  }
 ],
 "metadata": {
  "kernelspec": {
   "display_name": "Python 3 (ipykernel)",
   "language": "python",
   "name": "python3"
  },
  "language_info": {
   "codemirror_mode": {
    "name": "ipython",
    "version": 3
   },
   "file_extension": ".py",
   "mimetype": "text/x-python",
   "name": "python",
   "nbconvert_exporter": "python",
   "pygments_lexer": "ipython3",
   "version": "3.9.12"
  }
 },
 "nbformat": 4,
 "nbformat_minor": 5
}
